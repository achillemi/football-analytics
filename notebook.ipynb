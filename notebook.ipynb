{
 "cells": [
  {
   "cell_type": "markdown",
   "source": [
    "# Most *active* attacking players in World Cup 2018\n",
    "Who were the players who contributed the most to the attacking actions of their teams during World Cup 2018? How did they do it? How effective they were?\n",
    "\n",
    "To try to answer these questions I tried to run some simple analytics on the open data provided by Statsbomb.\n",
    "\n",
    "## Definitions\n",
    "Football analytics is a very broad field nowadays and many metrics exist to estimate all kinds of different attributes for a player or a team. For the purpose of this small demo, however, I chose a very simple metric to quantify the contribution of players to their teams' efforts to score. I assumed that a very active player will touch the ball very often and, if he is a very active **attacking** player, then he will probably contribute with one or more passes immediately before a shot is taken by himself or by one of his teammates. Putting in mathematical terms, in any given match I define:\n",
    "* $G$ as the total number of **shots** made by player $X$'s team during the match;\n",
    "* $s_{1}, s_{2}, ..., s_{G}$ as the sequence of **shots** made by player $X$'s team;\n",
    "* $N$ as a time interval in seconds;\n",
    "* $\\begin{equation}\n",
    "    p_{k} =\n",
    "    \\begin{cases}\n",
    "      1, & \\text{ if player}\\ X \\text{ took the shot}\\ k \\text{ or made a pass}\\ N \\text{ seconds or less before shot}\\ k \\\\\n",
    "      0, & \\text{ otherwise}\n",
    "    \\end{cases}\n",
    "  \\end{equation}$\n",
    "\n",
    "Then, the player $X$'s **activeness** can be defined as:\n",
    "$$\\alpha_{X} = \\sum_{k=1}^{G}{p_{k}}$$"
   ],
   "metadata": {
    "collapsed": false,
    "pycharm": {
     "name": "#%% md\n"
    }
   }
  },
  {
   "cell_type": "code",
   "execution_count": null,
   "outputs": [],
   "source": [],
   "metadata": {
    "collapsed": false,
    "pycharm": {
     "name": "#%%\n"
    }
   }
  }
 ],
 "metadata": {
  "kernelspec": {
   "display_name": "Python 3",
   "language": "python",
   "name": "python3"
  },
  "language_info": {
   "codemirror_mode": {
    "name": "ipython",
    "version": 2
   },
   "file_extension": ".py",
   "mimetype": "text/x-python",
   "name": "python",
   "nbconvert_exporter": "python",
   "pygments_lexer": "ipython2",
   "version": "2.7.6"
  }
 },
 "nbformat": 4,
 "nbformat_minor": 0
}